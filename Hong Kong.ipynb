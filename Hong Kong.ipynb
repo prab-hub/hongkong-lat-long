{
 "cells": [
  {
   "cell_type": "code",
   "execution_count": 2,
   "id": "ed4fae04",
   "metadata": {},
   "outputs": [
    {
     "name": "stdout",
     "output_type": "stream",
     "text": [
      "Requirement already satisfied: pandas in c:\\users\\linus\\anaconda3\\lib\\site-packages (1.5.3)\n",
      "Requirement already satisfied: hk1980 in c:\\users\\linus\\anaconda3\\lib\\site-packages (0.1.1)\n",
      "Requirement already satisfied: numpy>=1.21.0 in c:\\users\\linus\\anaconda3\\lib\\site-packages (from pandas) (1.23.5)\n",
      "Requirement already satisfied: pytz>=2020.1 in c:\\users\\linus\\anaconda3\\lib\\site-packages (from pandas) (2022.7)\n",
      "Requirement already satisfied: python-dateutil>=2.8.1 in c:\\users\\linus\\anaconda3\\lib\\site-packages (from pandas) (2.8.2)\n",
      "Requirement already satisfied: pyproj<4.0.0,>=3.3.0 in c:\\users\\linus\\anaconda3\\lib\\site-packages (from hk1980) (3.6.0)\n",
      "Requirement already satisfied: certifi in c:\\users\\linus\\anaconda3\\lib\\site-packages (from pyproj<4.0.0,>=3.3.0->hk1980) (2023.7.22)\n",
      "Requirement already satisfied: six>=1.5 in c:\\users\\linus\\anaconda3\\lib\\site-packages (from python-dateutil>=2.8.1->pandas) (1.16.0)\n"
     ]
    }
   ],
   "source": [
    "# Install and import the libraries\n",
    "\n",
    "!pip install pandas hk1980\n",
    "\n",
    "import pandas as pd\n",
    "from hk1980 import HK80"
   ]
  },
  {
   "cell_type": "code",
   "execution_count": 3,
   "id": "45e5b006",
   "metadata": {},
   "outputs": [],
   "source": [
    "# Read the file \n",
    "\n",
    "input_file = 'C:/Users/Linus/Documents/Sheets/UW 7M.csv'\n",
    "df = pd.read_csv(input_file)"
   ]
  },
  {
   "cell_type": "code",
   "execution_count": 4,
   "id": "7294c85c",
   "metadata": {},
   "outputs": [],
   "source": [
    "# Function to convert northing & easting values to latitude & longitude\n",
    "\n",
    "def convert_to_wgs84(row):\n",
    "    hku = HK80(northing=row['northing'], easting=row['easting']).to_wgs84()\n",
    "    return pd.Series({'latitude': hku.latitude, 'longitude': hku.longitude})\n",
    "\n",
    "# Apply the conversion function to each row\n",
    "df[['latitude', 'longitude']] = df.apply(convert_to_wgs84, axis=1)\n"
   ]
  },
  {
   "cell_type": "code",
   "execution_count": 5,
   "id": "d5bb9f95",
   "metadata": {},
   "outputs": [],
   "source": [
    "# Export the final file \n",
    "\n",
    "output_file = 'latitude_and_longitudes.csv'\n",
    "df.to_csv(output_file, index=False)"
   ]
  }
 ],
 "metadata": {
  "kernelspec": {
   "display_name": "Python 3 (ipykernel)",
   "language": "python",
   "name": "python3"
  },
  "language_info": {
   "codemirror_mode": {
    "name": "ipython",
    "version": 3
   },
   "file_extension": ".py",
   "mimetype": "text/x-python",
   "name": "python",
   "nbconvert_exporter": "python",
   "pygments_lexer": "ipython3",
   "version": "3.10.9"
  }
 },
 "nbformat": 4,
 "nbformat_minor": 5
}
